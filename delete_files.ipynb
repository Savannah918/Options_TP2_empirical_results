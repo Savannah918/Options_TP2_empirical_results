{
 "cells": [
  {
   "cell_type": "code",
   "execution_count": 2,
   "id": "d08d541d",
   "metadata": {},
   "outputs": [
    {
     "name": "stdout",
     "output_type": "stream",
     "text": [
      "Deleted 125 files.\n"
     ]
    }
   ],
   "source": [
    "import os\n",
    "import glob\n",
    "\n",
    "# Path to the directory\n",
    "directory_path = '.'\n",
    "\n",
    "# List all files that match the pattern\n",
    "files_to_delete = glob.glob(os.path.join(directory_path, '*.py.po*'))\n",
    "\n",
    "# Delete each file\n",
    "for file in files_to_delete:\n",
    "    os.remove(file)\n",
    "\n",
    "print(f\"Deleted {len(files_to_delete)} files.\")\n"
   ]
  },
  {
   "cell_type": "code",
   "execution_count": null,
   "id": "c11d4d24",
   "metadata": {},
   "outputs": [],
   "source": [
    "import os\n",
    "\n",
    "# Rename a file from \"old_filename.txt\" to \"new_filename.txt\"\n",
    "os.rename(\"\", \"new_filename.txt\")\n"
   ]
  },
  {
   "cell_type": "code",
   "execution_count": 3,
   "id": "6da533b8",
   "metadata": {},
   "outputs": [
    {
     "name": "stdout",
     "output_type": "stream",
     "text": [
      "Moved all files ending with '.png' to transition_matrix_2d_output_files/\n"
     ]
    }
   ],
   "source": [
    "import os\n",
    "import shutil\n",
    "\n",
    "# Define the directory where you want to search for the files\n",
    "source_directory = './'  # current directory as an example\n",
    "destination_folder = 'transition_matrix_2d_output_files'\n",
    "\n",
    "# Create the new folder\n",
    "if not os.path.exists(destination_folder):\n",
    "    os.makedirs(destination_folder)\n",
    "\n",
    "# Move all files ending with 'aaa' to the new folder\n",
    "for filename in os.listdir(source_directory):\n",
    "#     if '2021' in filename and filename.endswith('vol50.png'):\n",
    "    if 'transition_analysis_2d' in filename and '.py.o' in filename:\n",
    "        shutil.move(os.path.join(source_directory, filename), os.path.join(destination_folder, filename))\n",
    "\n",
    "print(f\"Moved all files ending with '.png' to {destination_folder}/\")\n"
   ]
  },
  {
   "cell_type": "code",
   "execution_count": 7,
   "id": "98d62e50",
   "metadata": {},
   "outputs": [],
   "source": []
  },
  {
   "cell_type": "code",
   "execution_count": null,
   "id": "ea57108c",
   "metadata": {},
   "outputs": [],
   "source": []
  }
 ],
 "metadata": {
  "kernelspec": {
   "display_name": "Python [conda env:root] *",
   "language": "python",
   "name": "conda-root-py"
  },
  "language_info": {
   "codemirror_mode": {
    "name": "ipython",
    "version": 3
   },
   "file_extension": ".py",
   "mimetype": "text/x-python",
   "name": "python",
   "nbconvert_exporter": "python",
   "pygments_lexer": "ipython3",
   "version": "3.9.7"
  }
 },
 "nbformat": 4,
 "nbformat_minor": 5
}
