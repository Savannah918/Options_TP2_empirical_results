{
 "cells": [
  {
   "cell_type": "code",
   "execution_count": null,
   "id": "1cf0e414",
   "metadata": {},
   "outputs": [],
   "source": [
    "import pandas as pd\n",
    "import pickle\n",
    "import os\n",
    "import time\n",
    "from itertools import product, permutations\n",
    "from tqdm import tqdm\n",
    "import pandas as pd\n",
    "from collections import OrderedDict\n",
    "import pickle\n",
    "import numpy as np\n",
    "from scipy.interpolate import interp1d\n",
    "from scipy.optimize import root\n",
    "\n",
    "# This function add another column of forward price to the original .csv datafile and save it as a \n",
    "# _with_forward_price.pkl\n",
    "def add_forward_price(dataset_name, start_date, end_date):\n",
    "    # Read the main CSV file into a DataFrame\n",
    "    df = pd.read_csv(dataset_name)\n",
    "\n",
    "    df = df[df['date'] >= start_date]\n",
    "    df = df[df['date'] <= end_date]\n",
    "    print(\"Shape after date filtering:\", df.shape)\n",
    "\n",
    "\n",
    "    # Ensure that the date column is of type datetime\n",
    "    df['date'] = pd.to_datetime(df['date'])\n",
    "    df['exdate'] = pd.to_datetime(df['exdate'])\n",
    "    \n",
    "    with open(\"./2020_2023_forward_price_dict.pkl\", 'rb') as f:\n",
    "        fp_dict = pickle.load(f)\n",
    "    \n",
    "    for key in tqdm(fp_dict):\n",
    "        date, ex_date, am_flag = key\n",
    "        if str(date)[:4] == dataset_name[:4]:\n",
    "            df.loc[(df['exdate'] == ex_date) & (df['date'] == date), 'forward_price'] = fp_dict[key]\n",
    "            \n",
    "    with open(f'{dataset_name[:4]}_with_forward_price.pkl', 'wb') as f:\n",
    "        pickle.dump(df, f)"
   ]
  },
  {
   "cell_type": "code",
   "execution_count": null,
   "id": "78c01370",
   "metadata": {},
   "outputs": [],
   "source": [
    "add_forward_price(dataset_name = '2020_whole_year.csv', start_date = '2020-01-01', end_date = '2020-12-31')"
   ]
  },
  {
   "cell_type": "code",
   "execution_count": 6,
   "id": "58846392",
   "metadata": {},
   "outputs": [],
   "source": []
  }
 ],
 "metadata": {
  "kernelspec": {
   "display_name": "Python 3 (ipykernel)",
   "language": "python",
   "name": "python3"
  },
  "language_info": {
   "codemirror_mode": {
    "name": "ipython",
    "version": 3
   },
   "file_extension": ".py",
   "mimetype": "text/x-python",
   "name": "python",
   "nbconvert_exporter": "python",
   "pygments_lexer": "ipython3",
   "version": "3.11.5"
  }
 },
 "nbformat": 4,
 "nbformat_minor": 5
}
