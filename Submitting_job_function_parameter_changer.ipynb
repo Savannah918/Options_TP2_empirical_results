{
 "cells": [
  {
   "cell_type": "code",
   "execution_count": 1,
   "id": "de1a6ff7",
   "metadata": {},
   "outputs": [],
   "source": [
    "import re\n",
    "\n",
    "for number in range(1, 11):\n",
    "    filename = f'transition_analysis_2d_{str(number)}.py'\n",
    "\n",
    "    start_date_to_replace = \"datetime(2022, 10, 1)\"\n",
    "    end_date_to_replace = \"datetime(2022, 12, 31)\"\n",
    "    cp_flag_to_replace = \"'P'\"\n",
    "    am_flag_to_replace = \"0\"\n",
    "    dataset_name_to_replace = \"'2022_with_forward_price.pkl'\"\n",
    "\n",
    "    # Read the contents of the file\n",
    "    with open(filename, 'r') as file:\n",
    "        content = file.read()\n",
    "\n",
    "    # Define the pattern to search for the specific line\n",
    "    pattern = re.compile(\n",
    "        r\"transition_mat_2d\\(start_date=datetime\\(\\d{4}, \\d{1,2}, \\d{1,2}\\), end_date=datetime\\(\\d{4}, \\d{1,2}, \\d{1,2}\\),(.+?), dataset_name = '.*?',(.+?), cp_flag = '.', am_flag = \\d(.+?)\\)\")\n",
    "\n",
    "    # Replace the specific parts of the matched line\n",
    "    content = pattern.sub(\n",
    "        fr\"transition_mat_2d(start_date={start_date_to_replace}, end_date={end_date_to_replace},\\1, dataset_name = {dataset_name_to_replace},\\2, cp_flag = {cp_flag_to_replace}, am_flag = {am_flag_to_replace}\\3)\", \n",
    "        content)\n",
    "\n",
    "    # Write the modified contents back to the file\n",
    "    with open(filename, 'w') as file:\n",
    "        file.write(content)\n"
   ]
  },
  {
   "cell_type": "code",
   "execution_count": null,
   "id": "645c2d8a",
   "metadata": {},
   "outputs": [],
   "source": []
  },
  {
   "cell_type": "code",
   "execution_count": null,
   "id": "609b3ab8",
   "metadata": {},
   "outputs": [],
   "source": []
  },
  {
   "cell_type": "code",
   "execution_count": null,
   "id": "bb5059f3",
   "metadata": {},
   "outputs": [],
   "source": [
    "# ----------original without dataset name parameter saved for potential reference-------------\n",
    "import re\n",
    "for number in range(1,11):\n",
    "    filename = f'transition_analysis_2d_{str(number)}.py'\n",
    "\n",
    "    start_date_to_replace = \"datetime(2022, 1, 1)\"\n",
    "    end_date_to_replace = \"datetime(2022, 12, 31)\"\n",
    "    cp_flag_to_replace = \"'C'\"\n",
    "    am_flag_to_replace = \"1\"\n",
    "\n",
    "    # Read the contents of the file\n",
    "    with open(filename, 'r') as file:\n",
    "        content = file.read()\n",
    "\n",
    "    # Define the pattern to search for the specific line\n",
    "    pattern = re.compile(r\"transition_mat_2d\\(start_date=datetime\\(\\d{4}, \\d{1,2}, \\d{1,2}\\), end_date=datetime\\(\\d{4}, \\d{1,2}, \\d{1,2}\\),(.+?), cp_flag = '.', am_flag = \\d\")\n",
    "\n",
    "    # Replace the specific parts of the matched line\n",
    "    content = pattern.sub(\n",
    "        fr\"transition_mat_2d(start_date={start_date_to_replace}, end_date={end_date_to_replace},\\1, cp_flag = {cp_flag_to_replace}, am_flag = {am_flag_to_replace}\", \n",
    "        content)\n",
    "\n",
    "    # Write the modified contents back to the file\n",
    "    with open(filename, 'w') as file:\n",
    "        file.write(content)\n"
   ]
  }
 ],
 "metadata": {
  "kernelspec": {
   "display_name": "Python 3 (ipykernel)",
   "language": "python",
   "name": "python3"
  },
  "language_info": {
   "codemirror_mode": {
    "name": "ipython",
    "version": 3
   },
   "file_extension": ".py",
   "mimetype": "text/x-python",
   "name": "python",
   "nbconvert_exporter": "python",
   "pygments_lexer": "ipython3",
   "version": "3.9.7"
  }
 },
 "nbformat": 4,
 "nbformat_minor": 5
}
